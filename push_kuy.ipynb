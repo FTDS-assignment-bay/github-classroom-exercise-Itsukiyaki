{
 "cells": [
  {
   "cell_type": "markdown",
   "metadata": {},
   "source": [
    "# Mar ki push, mari kita push"
   ]
  },
  {
   "cell_type": "markdown",
   "metadata": {},
   "source": [
    "1. `git clone <git@github.com:FTDS-assignment-bay/github-classroom-exercise-Itsukiyaki.git>` assignment\n",
    "2. `cd` ke repo di local device kalian\n",
    "3. Buat file tugas atau copas dari folder sebelum repo terbentuk\n",
    "4. `git status` untuk cek file terbaru tersebut -> harusnya warna filenya merah\n",
    "5. `git add .` untuk masukan seluruh file di repo lokal ke stage mode\n",
    "6. `git status` sekarang file yang tadinya warna merah seharusnya warna hijau\n",
    "7. `git commit -m \"final push\"` untuk commit tugas dan memberikan message (-m)\n",
    "8. `git push` untuk push ke github kalian\n",
    "9. Make sure di github kalian file baru sudah terupload"
   ]
  },
  {
   "cell_type": "markdown",
   "metadata": {},
   "source": [
    "# Notepad"
   ]
  },
  {
   "cell_type": "markdown",
   "metadata": {},
   "source": [
    "## Subheading 1\n",
    "### Subheading 2\n",
    "###### Subheading 6"
   ]
  },
  {
   "cell_type": "markdown",
   "metadata": {},
   "source": [
    "Barang\" rumah tangga\n",
    "1. Dapur:\n",
    "   - sendok \n",
    "   - garpu\n",
    "   - piring\n",
    "2. Kamar Mandi:\n",
    "   - Handuk\n",
    "   - sabun\n",
    "3. Kamar tidur:\n",
    "   - guling\n",
    "   - bantal\n",
    "   - furniture:\n",
    "      - lemari\n",
    "      - meja rias\n",
    "      - ranjang"
   ]
  },
  {
   "cell_type": "markdown",
   "metadata": {},
   "source": [
    "Ini untuk **bold**  \n",
    "Kalo ini *italic*</br>\n",
    "Yang ini ***bold_italic***\n",
    "\n",
    "Bisa kasi spasi2x, `</br>`, atau di enter 2x untuk output markdown return"
   ]
  },
  {
   "cell_type": "markdown",
   "metadata": {},
   "source": [
    "# BAB 1\n",
    "# Heading 1\n",
    "## Heading 2\n",
    "### Heading 3"
   ]
  },
  {
   "cell_type": "markdown",
   "metadata": {},
   "source": [
    "---"
   ]
  }
 ],
 "metadata": {
  "kernelspec": {
   "display_name": "base",
   "language": "python",
   "name": "python3"
  },
  "language_info": {
   "codemirror_mode": {
    "name": "ipython",
    "version": 3
   },
   "file_extension": ".py",
   "mimetype": "text/x-python",
   "name": "python",
   "nbconvert_exporter": "python",
   "pygments_lexer": "ipython3",
   "version": "3.12.7"
  }
 },
 "nbformat": 4,
 "nbformat_minor": 2
}
